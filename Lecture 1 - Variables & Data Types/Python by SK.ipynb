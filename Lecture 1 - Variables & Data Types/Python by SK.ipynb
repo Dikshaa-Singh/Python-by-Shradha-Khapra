{
 "cells": [
  {
   "cell_type": "markdown",
   "id": "039546e0-2b08-41c2-b642-b5951a83e415",
   "metadata": {},
   "source": [
    "# PYTHON WITH SHRADHA KHAPRA"
   ]
  },
  {
   "cell_type": "markdown",
   "id": "f9483f93-f84b-4ec6-963e-784ca56cd161",
   "metadata": {},
   "source": [
    "# Lecture 1 - Variables & Data Types"
   ]
  },
  {
   "cell_type": "markdown",
   "id": "83e65887-1192-4aae-8c77-c82d4036866b",
   "metadata": {},
   "source": [
    "# 1. Our First Program"
   ]
  },
  {
   "cell_type": "markdown",
   "id": "32248b19-eb18-40dc-a02b-064e0c28d743",
   "metadata": {},
   "source": [
    "Print is a function which is used to print anything on the console"
   ]
  },
  {
   "cell_type": "code",
   "execution_count": 6,
   "id": "a23e4d1c-4bb5-4a40-af46-918c4f88118f",
   "metadata": {},
   "outputs": [
    {
     "name": "stdout",
     "output_type": "stream",
     "text": [
      "My name is Diksha Singh\n"
     ]
    }
   ],
   "source": [
    "print(\"My name is Diksha Singh\")"
   ]
  },
  {
   "cell_type": "code",
   "execution_count": 8,
   "id": "db6f72fc-1288-4dd3-ad97-9343958759fc",
   "metadata": {},
   "outputs": [
    {
     "name": "stdout",
     "output_type": "stream",
     "text": [
      "I am 23 years old.\n"
     ]
    }
   ],
   "source": [
    "print(\"I am 23 years old.\")"
   ]
  },
  {
   "cell_type": "code",
   "execution_count": 10,
   "id": "1683cdfd-8d02-4795-aaa1-c49a3a7fb8ef",
   "metadata": {},
   "outputs": [
    {
     "name": "stdout",
     "output_type": "stream",
     "text": [
      "My name is Diksha Singh. I am 24 years old.\n"
     ]
    }
   ],
   "source": [
    "print(\"My name is Diksha Singh.\", \"I am 24 years old.\")"
   ]
  },
  {
   "cell_type": "code",
   "execution_count": 12,
   "id": "8e710333-6a79-438e-b4a2-98f7b7654948",
   "metadata": {},
   "outputs": [
    {
     "name": "stdout",
     "output_type": "stream",
     "text": [
      "45\n"
     ]
    }
   ],
   "source": [
    "print(45)"
   ]
  },
  {
   "cell_type": "code",
   "execution_count": 14,
   "id": "626f8dba-d6b5-499d-aea2-d1a1aab1d1f1",
   "metadata": {},
   "outputs": [
    {
     "name": "stdout",
     "output_type": "stream",
     "text": [
      "100\n"
     ]
    }
   ],
   "source": [
    "print(45+55)"
   ]
  },
  {
   "cell_type": "markdown",
   "id": "f87b0e87-f5c1-4267-904d-e97d7ad2a086",
   "metadata": {},
   "source": [
    "# 2. Data Types in Python:\n",
    "Integers\n",
    "\n",
    "String\n",
    "\n",
    "Float\n",
    "\n",
    "Boolean\n",
    "\n",
    "None"
   ]
  },
  {
   "cell_type": "code",
   "execution_count": 18,
   "id": "5884195e-b6c6-4e6a-a739-15e4bc1879da",
   "metadata": {},
   "outputs": [
    {
     "name": "stdout",
     "output_type": "stream",
     "text": [
      "Diksha\n",
      "23\n",
      "97.97\n"
     ]
    }
   ],
   "source": [
    "name= \"Diksha\" #String\n",
    "age= 23 #Integer\n",
    "marks= 97.97 #Float\n",
    "\n",
    "print(name)\n",
    "print(age)\n",
    "print(marks)"
   ]
  },
  {
   "cell_type": "code",
   "execution_count": 20,
   "id": "5f7aed38-45f4-43de-bb59-fe594de7399a",
   "metadata": {},
   "outputs": [
    {
     "name": "stdout",
     "output_type": "stream",
     "text": [
      "23\n"
     ]
    }
   ],
   "source": [
    "age2= age\n",
    "print(age2)"
   ]
  },
  {
   "cell_type": "markdown",
   "id": "48e8b24d-ffd3-4a60-96db-3a8391298f81",
   "metadata": {},
   "source": [
    "To print the data type of the above variables"
   ]
  },
  {
   "cell_type": "code",
   "execution_count": 26,
   "id": "aaec8b24-4c0d-4fff-8610-94ea183cc82b",
   "metadata": {},
   "outputs": [
    {
     "name": "stdout",
     "output_type": "stream",
     "text": [
      "<class 'str'>\n",
      "<class 'int'>\n",
      "<class 'float'>\n"
     ]
    }
   ],
   "source": [
    "print(type(name))\n",
    "print(type(age)) #integer can be +ve or -ve value\n",
    "print(type(marks))"
   ]
  },
  {
   "cell_type": "markdown",
   "id": "ee536dde-02cb-4fae-a14f-bb4a125f18a8",
   "metadata": {},
   "source": [
    "# 3. Variable\n",
    "\n",
    "A variable is a name given to a memory location in a program.\n",
    "\n",
    "# 4. Operators\n",
    "\n",
    "An operator is a symbol that performs a certain operation between operands.\n",
    "\n",
    "# Types of operators\n",
    "\n",
    "Arithmetic Operators ( + , - , * , / , % , ** )\n",
    "\n",
    "Relational / Comparison Operators ( == , != , > , < , >= , <= )\n",
    "\n",
    "Assignment Operators ( = , +=, -= , *= , /= , %= , **= )\n",
    "\n",
    "Logical Operators ( not , and , or )\n"
   ]
  },
  {
   "cell_type": "code",
   "execution_count": 32,
   "id": "45699e68-3f2c-46c2-a792-56712e79b019",
   "metadata": {},
   "outputs": [
    {
     "name": "stdout",
     "output_type": "stream",
     "text": [
      "Output for Arithmetic Operators : \n",
      "7\n",
      "3\n",
      "10\n",
      "2.5\n",
      "1\n",
      "25\n"
     ]
    }
   ],
   "source": [
    "#Arithmetic Operators\n",
    "a = 5 \n",
    "b = 2\n",
    "\n",
    "print(\"Output for Arithmetic Operators : \")\n",
    "print(a + b) #sum\n",
    "print(a - b) #difference\n",
    "print(a * b) #product\n",
    "print(a / b) #division\n",
    "print(a % b) #remainder\n",
    "print(a ** b) #power"
   ]
  },
  {
   "cell_type": "code",
   "execution_count": 34,
   "id": "d53372d8-1068-4a3e-92f9-b0633da7f4a3",
   "metadata": {},
   "outputs": [
    {
     "name": "stdout",
     "output_type": "stream",
     "text": [
      "Output for Relational Operators : \n",
      "False\n",
      "True\n",
      "False\n",
      "True\n",
      "False\n",
      "True\n"
     ]
    }
   ],
   "source": [
    "#Relational Operators\n",
    "x = 4\n",
    "y = 5\n",
    "\n",
    "print(\"Output for Relational Operators : \")\n",
    "print(x == y) #false\n",
    "print(x != y) #true\n",
    "print(x >= y) #false\n",
    "print(x <= y) #true\n",
    "print(x > y) #false\n",
    "print(x < y) #true"
   ]
  },
  {
   "cell_type": "code",
   "execution_count": 40,
   "id": "f7d24957-e3ba-4dca-9bb5-5f06d92bbb03",
   "metadata": {},
   "outputs": [
    {
     "name": "stdout",
     "output_type": "stream",
     "text": [
      "num :  20\n",
      "num :  10\n",
      "num :  100\n",
      "num :  10.0\n",
      "num :  100000.0\n"
     ]
    }
   ],
   "source": [
    "# Assignment Operators\n",
    "\n",
    "num = 10\n",
    "num += 10  # num = num + 10\n",
    "print(\"num : \",num)\n",
    "\n",
    "num -= 10 #  num = num - 10\n",
    "print(\"num : \",num)\n",
    "\n",
    "num *= 10  # num = num * 10\n",
    "print(\"num : \",num)\n",
    "\n",
    "num /= 10 # num = num / 10 \n",
    "print(\"num : \",num)\n",
    "\n",
    "num **=5 # to the power 5\n",
    "print(\"num : \",num)"
   ]
  },
  {
   "cell_type": "code",
   "execution_count": 42,
   "id": "9dfb470a-9a8f-43a7-9691-1fe53b0560e3",
   "metadata": {},
   "outputs": [
    {
     "name": "stdout",
     "output_type": "stream",
     "text": [
      "True\n",
      "False\n",
      "False\n",
      "AND operator: False\n",
      "OR operator: True\n"
     ]
    }
   ],
   "source": [
    "# Logical Operators\n",
    "n = 5\n",
    "y = 8\n",
    "print(not False)\n",
    "print(not True)\n",
    "\n",
    "print(not (n < y))\n",
    "\n",
    "val1 = False\n",
    "val2 = True\n",
    "print(\"AND operator:\",val1 and val2)\n",
    "\n",
    "print(\"OR operator:\",(n > y) or (n < y))"
   ]
  },
  {
   "cell_type": "markdown",
   "id": "86cbacee-3534-44f0-88d0-1a506b992433",
   "metadata": {},
   "source": [
    "# 5. Type conversion\n",
    "\n",
    "Data type conversion automatically"
   ]
  },
  {
   "cell_type": "code",
   "execution_count": 45,
   "id": "92abb63d-7d88-42bd-ae6b-62aa4b1c10f7",
   "metadata": {},
   "outputs": [
    {
     "name": "stdout",
     "output_type": "stream",
     "text": [
      "6.25\n"
     ]
    }
   ],
   "source": [
    "a=2 #int\n",
    "b=4.25 #float\n",
    "sum=a+b #Python automatically converts int value into float [2.0+4.25]\n",
    "print(sum)"
   ]
  },
  {
   "cell_type": "code",
   "execution_count": 47,
   "id": "7da3416c-1fd3-4262-bf4b-662d451b70d9",
   "metadata": {},
   "outputs": [],
   "source": [
    "#Let a= \"2\" and b =4.45 \n",
    "#ERROR [we cannot add string type to float or integer]"
   ]
  },
  {
   "cell_type": "markdown",
   "id": "57e07ffb-6bf6-4a9b-9500-b7a3f1127051",
   "metadata": {},
   "source": [
    "# Type Casting  \n",
    "Data type conversion manually"
   ]
  },
  {
   "cell_type": "code",
   "execution_count": 51,
   "id": "c0cb04d9-0b78-4805-a2ac-841d4ab3da7d",
   "metadata": {},
   "outputs": [
    {
     "name": "stdout",
     "output_type": "stream",
     "text": [
      "6\n"
     ]
    }
   ],
   "source": [
    "a, b = 1, \"5\"\n",
    "c = int(b)\n",
    "sum = a + c\n",
    "\n",
    "print(sum)"
   ]
  },
  {
   "cell_type": "code",
   "execution_count": 53,
   "id": "94f82941-b817-42f5-96a4-1d8eb61adfe4",
   "metadata": {},
   "outputs": [
    {
     "name": "stdout",
     "output_type": "stream",
     "text": [
      "<class 'str'>\n"
     ]
    }
   ],
   "source": [
    "c=3.14\n",
    "c= str(c)\n",
    "print(type(c))"
   ]
  },
  {
   "cell_type": "markdown",
   "id": "6ee75e4d-d4f3-4ce9-8225-e40a36877921",
   "metadata": {},
   "source": [
    "# 6. Input in Python"
   ]
  },
  {
   "cell_type": "code",
   "execution_count": 58,
   "id": "8fbbd87a-a314-450f-87de-5c076abf443b",
   "metadata": {},
   "outputs": [
    {
     "name": "stdin",
     "output_type": "stream",
     "text": [
      "Enter your name: Diksha\n"
     ]
    },
    {
     "name": "stdout",
     "output_type": "stream",
     "text": [
      "Welcome Diksha\n",
      "<class 'str'> Diksha\n"
     ]
    }
   ],
   "source": [
    "#input( ) statement is used to accept values (manually using keyboard) from user\n",
    "#Result for input() is always a string\n",
    "name= input(\"Enter your name:\") \n",
    "print(\"Welcome\", name)\n",
    "print(type(name), name) #ALWAYS STRING"
   ]
  },
  {
   "cell_type": "code",
   "execution_count": 60,
   "id": "7f3f99b3-0826-4689-8626-6b25b3acbc31",
   "metadata": {},
   "outputs": [
    {
     "name": "stdin",
     "output_type": "stream",
     "text": [
      "Enter your age: 23\n"
     ]
    },
    {
     "name": "stdout",
     "output_type": "stream",
     "text": [
      "your age is 23\n",
      "<class 'int'> 23\n"
     ]
    }
   ],
   "source": [
    "#TO DETERMINE THE ACCURATE DATA TYPE WE USE TYPECASTING\n",
    "age= int(input(\"Enter your age:\")) #To convert into int\n",
    "print(\"your age is\", age)\n",
    "print(type(age), age) #ALWAYS STRING"
   ]
  },
  {
   "cell_type": "markdown",
   "id": "072be11c-52c6-40a8-ac6c-044d161cf9d7",
   "metadata": {},
   "source": [
    "# 7. Practice Questions "
   ]
  },
  {
   "cell_type": "markdown",
   "id": "1b44265b-0c77-431e-a1fe-b174627d2b6c",
   "metadata": {},
   "source": [
    "Write a Program to input 2 numbers & print their sum."
   ]
  },
  {
   "cell_type": "code",
   "execution_count": 66,
   "id": "eb7b8be6-6ef2-4aa7-8755-97a8932d0323",
   "metadata": {},
   "outputs": [
    {
     "name": "stdin",
     "output_type": "stream",
     "text": [
      "Enter number 1 :  12\n",
      "Enter number 2 :  15\n"
     ]
    },
    {
     "name": "stdout",
     "output_type": "stream",
     "text": [
      "The sum is:  27\n"
     ]
    }
   ],
   "source": [
    "num1 = int(input(\"Enter number 1 : \"))\n",
    "num2 = int(input(\"Enter number 2 : \"))\n",
    "print(\"The sum is: \",(num1 + num2))"
   ]
  },
  {
   "cell_type": "markdown",
   "id": "d260429c-8b53-4572-8450-d7d733bb04e5",
   "metadata": {},
   "source": [
    "Write a program to input side of a square & print its area."
   ]
  },
  {
   "cell_type": "code",
   "execution_count": 69,
   "id": "990e1f24-8991-499c-83b7-df9c8b26bb3d",
   "metadata": {},
   "outputs": [
    {
     "name": "stdin",
     "output_type": "stream",
     "text": [
      "Enter the side of the square :  5\n"
     ]
    },
    {
     "name": "stdout",
     "output_type": "stream",
     "text": [
      "Area of Square is :  25.0\n"
     ]
    }
   ],
   "source": [
    "side = float(input(\"Enter the side of the square : \"))\n",
    "print(\"Area of Square is : \", (side*side))"
   ]
  },
  {
   "cell_type": "markdown",
   "id": "103a2d98-55e8-48a1-82fd-bd3b8c4cd288",
   "metadata": {},
   "source": [
    "Write a Program to input two floating point numbers & print their average."
   ]
  },
  {
   "cell_type": "code",
   "execution_count": 72,
   "id": "386f80c8-89b4-4f5c-97a7-9e8c758e760b",
   "metadata": {},
   "outputs": [
    {
     "name": "stdin",
     "output_type": "stream",
     "text": [
      "Enter number 1 :  5\n",
      "Enter number 2 :  7\n"
     ]
    },
    {
     "name": "stdout",
     "output_type": "stream",
     "text": [
      "The average is :  6.0\n"
     ]
    }
   ],
   "source": [
    "number1 = float(input(\"Enter number 1 : \"))\n",
    "number2 = float(input(\"Enter number 2 : \"))\n",
    "average  = (number1 + number2 ) / 2\n",
    "print(\"The average is : \",average)"
   ]
  },
  {
   "cell_type": "markdown",
   "id": "0138c5d9-4130-4a57-a0a9-f075bdabc8ca",
   "metadata": {},
   "source": [
    "Write a Program to input two int numbers, a and b. Print True if a is greater than or equal to b. If not print False."
   ]
  },
  {
   "cell_type": "code",
   "execution_count": 75,
   "id": "b579177b-75d4-4476-b07b-c5d8244e6ab0",
   "metadata": {},
   "outputs": [
    {
     "name": "stdin",
     "output_type": "stream",
     "text": [
      "Enter number 1 :  5\n",
      "Enter number 2 :  9\n"
     ]
    },
    {
     "name": "stdout",
     "output_type": "stream",
     "text": [
      "False\n"
     ]
    }
   ],
   "source": [
    "a = int(input(\"Enter number 1 : \"))\n",
    "b = int(input(\"Enter number 2 : \"))\n",
    "print(a>=b)"
   ]
  },
  {
   "cell_type": "code",
   "execution_count": null,
   "id": "88b99fc2-72a4-41a9-a517-65b7500fc870",
   "metadata": {},
   "outputs": [],
   "source": []
  }
 ],
 "metadata": {
  "kernelspec": {
   "display_name": "Python 3 (ipykernel)",
   "language": "python",
   "name": "python3"
  },
  "language_info": {
   "codemirror_mode": {
    "name": "ipython",
    "version": 3
   },
   "file_extension": ".py",
   "mimetype": "text/x-python",
   "name": "python",
   "nbconvert_exporter": "python",
   "pygments_lexer": "ipython3",
   "version": "3.12.7"
  }
 },
 "nbformat": 4,
 "nbformat_minor": 5
}
